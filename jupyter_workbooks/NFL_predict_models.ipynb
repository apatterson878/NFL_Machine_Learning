{
 "cells": [
  {
   "cell_type": "code",
   "execution_count": 1,
   "metadata": {},
   "outputs": [
    {
     "name": "stdout",
     "output_type": "stream",
     "text": [
      "Requirement already satisfied: xgboost in c:\\programdata\\anaconda3\\envs\\ut_ml\\lib\\site-packages (0.90)\n",
      "Requirement already satisfied: numpy in c:\\programdata\\anaconda3\\envs\\ut_ml\\lib\\site-packages (from xgboost) (1.16.2)\n",
      "Requirement already satisfied: scipy in c:\\programdata\\anaconda3\\envs\\ut_ml\\lib\\site-packages (from xgboost) (1.2.1)\n",
      "Requirement already satisfied: joblib in c:\\programdata\\anaconda3\\envs\\ut_ml\\lib\\site-packages (0.13.2)\n"
     ]
    }
   ],
   "source": [
    "!pip install xgboost\n",
    "!pip install joblib"
   ]
  },
  {
   "cell_type": "code",
   "execution_count": 2,
   "metadata": {},
   "outputs": [],
   "source": [
    "%matplotlib inline\n",
    "import pandas as pd\n",
    "from pandas.plotting import scatter_matrix\n",
    "import numpy as np\n",
    "from numpy import loadtxt\n",
    "import os\n",
    "import scipy\n",
    "import matplotlib.pyplot as plt\n",
    "from matplotlib import rcParams\n",
    "import warnings\n",
    "import sklearn\n",
    "from sklearn import preprocessing\n",
    "from sklearn.preprocessing import scale\n",
    "from sklearn.preprocessing import StandardScaler\n",
    "import seaborn as sb\n",
    "\n",
    "from sklearn.metrics import classification_report\n",
    "from sklearn.metrics import accuracy_score\n",
    "\n",
    "from sklearn.pipeline import make_pipeline\n",
    "from sklearn.linear_model import LogisticRegression\n",
    "#from sklearn.linear_model import LogisticRegressionCV\n",
    "#from sklearn.discriminant_analysis import LinearDiscriminantAnalysis\n",
    "from sklearn import svm\n",
    "from sklearn.svm import LinearSVC\n",
    "from sklearn.neural_network import MLPClassifier\n",
    "from sklearn.tree import DecisionTreeClassifier\n",
    "from sklearn.ensemble import RandomForestClassifier, AdaBoostClassifier, VotingClassifier\n",
    "import xgboost as xgb\n",
    "\n",
    "from xgboost import XGBClassifier\n",
    "#from sklearn.model_selection import train_test_split\n",
    "import joblib\n",
    "from joblib import dump, load\n",
    "import pickle"
   ]
  },
  {
   "cell_type": "code",
   "execution_count": 3,
   "metadata": {},
   "outputs": [],
   "source": [
    "#To view all columns in DF ,expanded without ellipses\n",
    "pd.set_option('display.max_columns', None)  \n",
    "pd.set_option('display.expand_frame_repr', False)\n",
    "pd.set_option('max_colwidth', -1)"
   ]
  },
  {
   "cell_type": "code",
   "execution_count": 4,
   "metadata": {
    "scrolled": false
   },
   "outputs": [
    {
     "data": {
      "text/html": [
       "<div>\n",
       "<style scoped>\n",
       "    .dataframe tbody tr th:only-of-type {\n",
       "        vertical-align: middle;\n",
       "    }\n",
       "\n",
       "    .dataframe tbody tr th {\n",
       "        vertical-align: top;\n",
       "    }\n",
       "\n",
       "    .dataframe thead th {\n",
       "        text-align: right;\n",
       "    }\n",
       "</style>\n",
       "<table border=\"1\" class=\"dataframe\">\n",
       "  <thead>\n",
       "    <tr style=\"text-align: right;\">\n",
       "      <th></th>\n",
       "      <th>Unnamed: 0</th>\n",
       "      <th>season</th>\n",
       "      <th>week</th>\n",
       "      <th>boxscore_id</th>\n",
       "      <th>team</th>\n",
       "      <th>home</th>\n",
       "      <th>pass_attempts</th>\n",
       "      <th>pass_completions</th>\n",
       "      <th>pass_yards</th>\n",
       "      <th>net_pass_yards</th>\n",
       "      <th>pass_tds</th>\n",
       "      <th>rush_attempts</th>\n",
       "      <th>rush_yards</th>\n",
       "      <th>rush_tds</th>\n",
       "      <th>total_yards</th>\n",
       "      <th>first_downs</th>\n",
       "      <th>sacks</th>\n",
       "      <th>sacks_yards</th>\n",
       "      <th>pass_interceptions</th>\n",
       "      <th>fumbles</th>\n",
       "      <th>fumbles_lost</th>\n",
       "      <th>turnovers</th>\n",
       "      <th>time_of_possession</th>\n",
       "      <th>pentalties</th>\n",
       "      <th>penalty_yards</th>\n",
       "      <th>third_down_attempts</th>\n",
       "      <th>third_down_conversions</th>\n",
       "      <th>fourth_down_attempts</th>\n",
       "      <th>fourth_down_conversions</th>\n",
       "      <th>roof</th>\n",
       "      <th>surface</th>\n",
       "      <th>temp</th>\n",
       "      <th>humidity</th>\n",
       "      <th>wind_chill</th>\n",
       "      <th>wind_mph</th>\n",
       "      <th>Score</th>\n",
       "      <th>Won</th>\n",
       "    </tr>\n",
       "  </thead>\n",
       "  <tbody>\n",
       "    <tr>\n",
       "      <th>0</th>\n",
       "      <td>0</td>\n",
       "      <td>2002</td>\n",
       "      <td>1</td>\n",
       "      <td>200209050nyg</td>\n",
       "      <td>sfo</td>\n",
       "      <td>0</td>\n",
       "      <td>26</td>\n",
       "      <td>16</td>\n",
       "      <td>166.0</td>\n",
       "      <td>166</td>\n",
       "      <td>1.0</td>\n",
       "      <td>25</td>\n",
       "      <td>113.0</td>\n",
       "      <td>0.0</td>\n",
       "      <td>279</td>\n",
       "      <td>13</td>\n",
       "      <td>0</td>\n",
       "      <td>0</td>\n",
       "      <td>1.0</td>\n",
       "      <td>0</td>\n",
       "      <td>0</td>\n",
       "      <td>1</td>\n",
       "      <td>27:32:00</td>\n",
       "      <td>0</td>\n",
       "      <td>0</td>\n",
       "      <td>4</td>\n",
       "      <td>12</td>\n",
       "      <td>0</td>\n",
       "      <td>0</td>\n",
       "      <td>outdoors</td>\n",
       "      <td>grass</td>\n",
       "      <td>73</td>\n",
       "      <td>49.0</td>\n",
       "      <td>0</td>\n",
       "      <td>7</td>\n",
       "      <td>16</td>\n",
       "      <td>1</td>\n",
       "    </tr>\n",
       "    <tr>\n",
       "      <th>1</th>\n",
       "      <td>1</td>\n",
       "      <td>2002</td>\n",
       "      <td>1</td>\n",
       "      <td>200209050nyg</td>\n",
       "      <td>nyg</td>\n",
       "      <td>1</td>\n",
       "      <td>45</td>\n",
       "      <td>28</td>\n",
       "      <td>342.0</td>\n",
       "      <td>318</td>\n",
       "      <td>0.0</td>\n",
       "      <td>22</td>\n",
       "      <td>43.0</td>\n",
       "      <td>1.0</td>\n",
       "      <td>361</td>\n",
       "      <td>21</td>\n",
       "      <td>3</td>\n",
       "      <td>24</td>\n",
       "      <td>3.0</td>\n",
       "      <td>0</td>\n",
       "      <td>0</td>\n",
       "      <td>3</td>\n",
       "      <td>32:28:00</td>\n",
       "      <td>3</td>\n",
       "      <td>24</td>\n",
       "      <td>9</td>\n",
       "      <td>16</td>\n",
       "      <td>0</td>\n",
       "      <td>1</td>\n",
       "      <td>outdoors</td>\n",
       "      <td>grass</td>\n",
       "      <td>73</td>\n",
       "      <td>49.0</td>\n",
       "      <td>0</td>\n",
       "      <td>7</td>\n",
       "      <td>13</td>\n",
       "      <td>0</td>\n",
       "    </tr>\n",
       "    <tr>\n",
       "      <th>2</th>\n",
       "      <td>2</td>\n",
       "      <td>2002</td>\n",
       "      <td>1</td>\n",
       "      <td>200209080mia</td>\n",
       "      <td>det</td>\n",
       "      <td>0</td>\n",
       "      <td>36</td>\n",
       "      <td>17</td>\n",
       "      <td>220.0</td>\n",
       "      <td>206</td>\n",
       "      <td>1.0</td>\n",
       "      <td>19</td>\n",
       "      <td>51.0</td>\n",
       "      <td>2.0</td>\n",
       "      <td>257</td>\n",
       "      <td>15</td>\n",
       "      <td>3</td>\n",
       "      <td>14</td>\n",
       "      <td>1.0</td>\n",
       "      <td>2</td>\n",
       "      <td>1</td>\n",
       "      <td>2</td>\n",
       "      <td>25:36:00</td>\n",
       "      <td>3</td>\n",
       "      <td>14</td>\n",
       "      <td>7</td>\n",
       "      <td>14</td>\n",
       "      <td>0</td>\n",
       "      <td>1</td>\n",
       "      <td>outdoors</td>\n",
       "      <td>grass</td>\n",
       "      <td>87</td>\n",
       "      <td>69.0</td>\n",
       "      <td>0</td>\n",
       "      <td>12</td>\n",
       "      <td>21</td>\n",
       "      <td>0</td>\n",
       "    </tr>\n",
       "    <tr>\n",
       "      <th>3</th>\n",
       "      <td>3</td>\n",
       "      <td>2002</td>\n",
       "      <td>1</td>\n",
       "      <td>200209080mia</td>\n",
       "      <td>mia</td>\n",
       "      <td>1</td>\n",
       "      <td>27</td>\n",
       "      <td>18</td>\n",
       "      <td>207.0</td>\n",
       "      <td>207</td>\n",
       "      <td>3.0</td>\n",
       "      <td>41</td>\n",
       "      <td>182.0</td>\n",
       "      <td>3.0</td>\n",
       "      <td>389</td>\n",
       "      <td>27</td>\n",
       "      <td>0</td>\n",
       "      <td>0</td>\n",
       "      <td>0.0</td>\n",
       "      <td>2</td>\n",
       "      <td>0</td>\n",
       "      <td>0</td>\n",
       "      <td>34:24:00</td>\n",
       "      <td>0</td>\n",
       "      <td>0</td>\n",
       "      <td>6</td>\n",
       "      <td>12</td>\n",
       "      <td>1</td>\n",
       "      <td>1</td>\n",
       "      <td>outdoors</td>\n",
       "      <td>grass</td>\n",
       "      <td>87</td>\n",
       "      <td>69.0</td>\n",
       "      <td>0</td>\n",
       "      <td>12</td>\n",
       "      <td>49</td>\n",
       "      <td>1</td>\n",
       "    </tr>\n",
       "    <tr>\n",
       "      <th>4</th>\n",
       "      <td>4</td>\n",
       "      <td>2002</td>\n",
       "      <td>1</td>\n",
       "      <td>200209080jax</td>\n",
       "      <td>clt</td>\n",
       "      <td>0</td>\n",
       "      <td>31</td>\n",
       "      <td>19</td>\n",
       "      <td>211.0</td>\n",
       "      <td>203</td>\n",
       "      <td>3.0</td>\n",
       "      <td>28</td>\n",
       "      <td>104.0</td>\n",
       "      <td>0.0</td>\n",
       "      <td>307</td>\n",
       "      <td>18</td>\n",
       "      <td>1</td>\n",
       "      <td>8</td>\n",
       "      <td>0.0</td>\n",
       "      <td>2</td>\n",
       "      <td>2</td>\n",
       "      <td>2</td>\n",
       "      <td>27:27:00</td>\n",
       "      <td>1</td>\n",
       "      <td>8</td>\n",
       "      <td>9</td>\n",
       "      <td>14</td>\n",
       "      <td>0</td>\n",
       "      <td>0</td>\n",
       "      <td>outdoors</td>\n",
       "      <td>grass</td>\n",
       "      <td>85</td>\n",
       "      <td>0.0</td>\n",
       "      <td>0</td>\n",
       "      <td>16</td>\n",
       "      <td>28</td>\n",
       "      <td>1</td>\n",
       "    </tr>\n",
       "  </tbody>\n",
       "</table>\n",
       "</div>"
      ],
      "text/plain": [
       "   Unnamed: 0  season  week   boxscore_id team  home  pass_attempts  pass_completions  pass_yards  net_pass_yards  pass_tds  rush_attempts  rush_yards  rush_tds  total_yards  first_downs  sacks  sacks_yards  pass_interceptions  fumbles  fumbles_lost  turnovers time_of_possession  pentalties  penalty_yards  third_down_attempts  third_down_conversions  fourth_down_attempts  fourth_down_conversions      roof surface  temp  humidity  wind_chill  wind_mph  Score  Won\n",
       "0  0           2002    1     200209050nyg  sfo  0     26             16                166.0       166             1.0       25             113.0       0.0       279          13           0      0            1.0                 0        0             1          27:32:00           0           0              4                    12                      0                     0                        outdoors  grass   73    49.0      0           7         16     1  \n",
       "1  1           2002    1     200209050nyg  nyg  1     45             28                342.0       318             0.0       22             43.0        1.0       361          21           3      24           3.0                 0        0             3          32:28:00           3           24             9                    16                      0                     1                        outdoors  grass   73    49.0      0           7         13     0  \n",
       "2  2           2002    1     200209080mia  det  0     36             17                220.0       206             1.0       19             51.0        2.0       257          15           3      14           1.0                 2        1             2          25:36:00           3           14             7                    14                      0                     1                        outdoors  grass   87    69.0      0           12        21     0  \n",
       "3  3           2002    1     200209080mia  mia  1     27             18                207.0       207             3.0       41             182.0       3.0       389          27           0      0            0.0                 2        0             0          34:24:00           0           0              6                    12                      1                     1                        outdoors  grass   87    69.0      0           12        49     1  \n",
       "4  4           2002    1     200209080jax  clt  0     31             19                211.0       203             3.0       28             104.0       0.0       307          18           1      8            0.0                 2        2             2          27:27:00           1           8              9                    14                      0                     0                        outdoors  grass   85    0.0       0           16        28     1  "
      ]
     },
     "execution_count": 4,
     "metadata": {},
     "output_type": "execute_result"
    }
   ],
   "source": [
    "df=pd.read_csv(\"NFL_datasetForML.csv\")\n",
    "df.head()"
   ]
  },
  {
   "cell_type": "code",
   "execution_count": 5,
   "metadata": {},
   "outputs": [
    {
     "data": {
      "text/html": [
       "<div>\n",
       "<style scoped>\n",
       "    .dataframe tbody tr th:only-of-type {\n",
       "        vertical-align: middle;\n",
       "    }\n",
       "\n",
       "    .dataframe tbody tr th {\n",
       "        vertical-align: top;\n",
       "    }\n",
       "\n",
       "    .dataframe thead th {\n",
       "        text-align: right;\n",
       "    }\n",
       "</style>\n",
       "<table border=\"1\" class=\"dataframe\">\n",
       "  <thead>\n",
       "    <tr style=\"text-align: right;\">\n",
       "      <th></th>\n",
       "      <th>Unnamed: 0</th>\n",
       "      <th>season</th>\n",
       "      <th>week</th>\n",
       "      <th>boxscore_id</th>\n",
       "      <th>team</th>\n",
       "      <th>home</th>\n",
       "      <th>pass_attempts</th>\n",
       "      <th>pass_completions</th>\n",
       "      <th>pass_yards</th>\n",
       "      <th>net_pass_yards</th>\n",
       "      <th>pass_tds</th>\n",
       "      <th>rush_attempts</th>\n",
       "      <th>rush_yards</th>\n",
       "      <th>rush_tds</th>\n",
       "      <th>total_yards</th>\n",
       "      <th>first_downs</th>\n",
       "      <th>sacks</th>\n",
       "      <th>sacks_yards</th>\n",
       "      <th>pass_interceptions</th>\n",
       "      <th>fumbles</th>\n",
       "      <th>fumbles_lost</th>\n",
       "      <th>turnovers</th>\n",
       "      <th>time_of_possession</th>\n",
       "      <th>pentalties</th>\n",
       "      <th>penalty_yards</th>\n",
       "      <th>third_down_attempts</th>\n",
       "      <th>third_down_conversions</th>\n",
       "      <th>fourth_down_attempts</th>\n",
       "      <th>fourth_down_conversions</th>\n",
       "      <th>roof</th>\n",
       "      <th>surface</th>\n",
       "      <th>temp</th>\n",
       "      <th>humidity</th>\n",
       "      <th>wind_chill</th>\n",
       "      <th>wind_mph</th>\n",
       "      <th>Score</th>\n",
       "      <th>Won</th>\n",
       "    </tr>\n",
       "  </thead>\n",
       "  <tbody>\n",
       "    <tr>\n",
       "      <th>0</th>\n",
       "      <td>0</td>\n",
       "      <td>2002</td>\n",
       "      <td>1</td>\n",
       "      <td>200209050nyg</td>\n",
       "      <td>sfo</td>\n",
       "      <td>0</td>\n",
       "      <td>26</td>\n",
       "      <td>16</td>\n",
       "      <td>166.0</td>\n",
       "      <td>166</td>\n",
       "      <td>1.0</td>\n",
       "      <td>25</td>\n",
       "      <td>113.0</td>\n",
       "      <td>0.0</td>\n",
       "      <td>279</td>\n",
       "      <td>13</td>\n",
       "      <td>0</td>\n",
       "      <td>0</td>\n",
       "      <td>1.0</td>\n",
       "      <td>0</td>\n",
       "      <td>0</td>\n",
       "      <td>1</td>\n",
       "      <td>27:32:00</td>\n",
       "      <td>0</td>\n",
       "      <td>0</td>\n",
       "      <td>4</td>\n",
       "      <td>12</td>\n",
       "      <td>0</td>\n",
       "      <td>0</td>\n",
       "      <td>outdoors</td>\n",
       "      <td>grass</td>\n",
       "      <td>73</td>\n",
       "      <td>49.0</td>\n",
       "      <td>0</td>\n",
       "      <td>7</td>\n",
       "      <td>16</td>\n",
       "      <td>1</td>\n",
       "    </tr>\n",
       "    <tr>\n",
       "      <th>1</th>\n",
       "      <td>1</td>\n",
       "      <td>2002</td>\n",
       "      <td>1</td>\n",
       "      <td>200209050nyg</td>\n",
       "      <td>nyg</td>\n",
       "      <td>1</td>\n",
       "      <td>45</td>\n",
       "      <td>28</td>\n",
       "      <td>342.0</td>\n",
       "      <td>318</td>\n",
       "      <td>0.0</td>\n",
       "      <td>22</td>\n",
       "      <td>43.0</td>\n",
       "      <td>1.0</td>\n",
       "      <td>361</td>\n",
       "      <td>21</td>\n",
       "      <td>3</td>\n",
       "      <td>24</td>\n",
       "      <td>3.0</td>\n",
       "      <td>0</td>\n",
       "      <td>0</td>\n",
       "      <td>3</td>\n",
       "      <td>32:28:00</td>\n",
       "      <td>3</td>\n",
       "      <td>24</td>\n",
       "      <td>9</td>\n",
       "      <td>16</td>\n",
       "      <td>0</td>\n",
       "      <td>1</td>\n",
       "      <td>outdoors</td>\n",
       "      <td>grass</td>\n",
       "      <td>73</td>\n",
       "      <td>49.0</td>\n",
       "      <td>0</td>\n",
       "      <td>7</td>\n",
       "      <td>13</td>\n",
       "      <td>0</td>\n",
       "    </tr>\n",
       "    <tr>\n",
       "      <th>2</th>\n",
       "      <td>2</td>\n",
       "      <td>2002</td>\n",
       "      <td>1</td>\n",
       "      <td>200209080mia</td>\n",
       "      <td>det</td>\n",
       "      <td>0</td>\n",
       "      <td>36</td>\n",
       "      <td>17</td>\n",
       "      <td>220.0</td>\n",
       "      <td>206</td>\n",
       "      <td>1.0</td>\n",
       "      <td>19</td>\n",
       "      <td>51.0</td>\n",
       "      <td>2.0</td>\n",
       "      <td>257</td>\n",
       "      <td>15</td>\n",
       "      <td>3</td>\n",
       "      <td>14</td>\n",
       "      <td>1.0</td>\n",
       "      <td>2</td>\n",
       "      <td>1</td>\n",
       "      <td>2</td>\n",
       "      <td>25:36:00</td>\n",
       "      <td>3</td>\n",
       "      <td>14</td>\n",
       "      <td>7</td>\n",
       "      <td>14</td>\n",
       "      <td>0</td>\n",
       "      <td>1</td>\n",
       "      <td>outdoors</td>\n",
       "      <td>grass</td>\n",
       "      <td>87</td>\n",
       "      <td>69.0</td>\n",
       "      <td>0</td>\n",
       "      <td>12</td>\n",
       "      <td>21</td>\n",
       "      <td>0</td>\n",
       "    </tr>\n",
       "  </tbody>\n",
       "</table>\n",
       "</div>"
      ],
      "text/plain": [
       "   Unnamed: 0  season  week   boxscore_id team  home  pass_attempts  pass_completions  pass_yards  net_pass_yards  pass_tds  rush_attempts  rush_yards  rush_tds  total_yards  first_downs  sacks  sacks_yards  pass_interceptions  fumbles  fumbles_lost  turnovers time_of_possession  pentalties  penalty_yards  third_down_attempts  third_down_conversions  fourth_down_attempts  fourth_down_conversions      roof surface  temp  humidity  wind_chill  wind_mph  Score  Won\n",
       "0  0           2002    1     200209050nyg  sfo  0     26             16                166.0       166             1.0       25             113.0       0.0       279          13           0      0            1.0                 0        0             1          27:32:00           0           0              4                    12                      0                     0                        outdoors  grass   73    49.0      0           7         16     1  \n",
       "1  1           2002    1     200209050nyg  nyg  1     45             28                342.0       318             0.0       22             43.0        1.0       361          21           3      24           3.0                 0        0             3          32:28:00           3           24             9                    16                      0                     1                        outdoors  grass   73    49.0      0           7         13     0  \n",
       "2  2           2002    1     200209080mia  det  0     36             17                220.0       206             1.0       19             51.0        2.0       257          15           3      14           1.0                 2        1             2          25:36:00           3           14             7                    14                      0                     1                        outdoors  grass   87    69.0      0           12        21     0  "
      ]
     },
     "execution_count": 5,
     "metadata": {},
     "output_type": "execute_result"
    }
   ],
   "source": [
    "data = df.select_dtypes(include=[object])\n",
    "df.head(3)"
   ]
  },
  {
   "cell_type": "code",
   "execution_count": 6,
   "metadata": {},
   "outputs": [
    {
     "data": {
      "text/html": [
       "<div>\n",
       "<style scoped>\n",
       "    .dataframe tbody tr th:only-of-type {\n",
       "        vertical-align: middle;\n",
       "    }\n",
       "\n",
       "    .dataframe tbody tr th {\n",
       "        vertical-align: top;\n",
       "    }\n",
       "\n",
       "    .dataframe thead th {\n",
       "        text-align: right;\n",
       "    }\n",
       "</style>\n",
       "<table border=\"1\" class=\"dataframe\">\n",
       "  <thead>\n",
       "    <tr style=\"text-align: right;\">\n",
       "      <th></th>\n",
       "      <th>Unnamed: 0</th>\n",
       "      <th>season</th>\n",
       "      <th>week</th>\n",
       "      <th>team</th>\n",
       "      <th>home</th>\n",
       "      <th>pass_attempts</th>\n",
       "      <th>pass_completions</th>\n",
       "      <th>pass_yards</th>\n",
       "      <th>net_pass_yards</th>\n",
       "      <th>pass_tds</th>\n",
       "      <th>rush_attempts</th>\n",
       "      <th>rush_yards</th>\n",
       "      <th>rush_tds</th>\n",
       "      <th>total_yards</th>\n",
       "      <th>first_downs</th>\n",
       "      <th>sacks</th>\n",
       "      <th>sacks_yards</th>\n",
       "      <th>pass_interceptions</th>\n",
       "      <th>fumbles</th>\n",
       "      <th>fumbles_lost</th>\n",
       "      <th>turnovers</th>\n",
       "      <th>time_of_possession</th>\n",
       "      <th>pentalties</th>\n",
       "      <th>penalty_yards</th>\n",
       "      <th>third_down_attempts</th>\n",
       "      <th>third_down_conversions</th>\n",
       "      <th>fourth_down_attempts</th>\n",
       "      <th>fourth_down_conversions</th>\n",
       "      <th>Score</th>\n",
       "      <th>Won</th>\n",
       "    </tr>\n",
       "  </thead>\n",
       "  <tbody>\n",
       "    <tr>\n",
       "      <th>0</th>\n",
       "      <td>0</td>\n",
       "      <td>2002</td>\n",
       "      <td>1</td>\n",
       "      <td>sfo</td>\n",
       "      <td>0</td>\n",
       "      <td>26</td>\n",
       "      <td>16</td>\n",
       "      <td>166.0</td>\n",
       "      <td>166</td>\n",
       "      <td>1.0</td>\n",
       "      <td>25</td>\n",
       "      <td>113.0</td>\n",
       "      <td>0.0</td>\n",
       "      <td>279</td>\n",
       "      <td>13</td>\n",
       "      <td>0</td>\n",
       "      <td>0</td>\n",
       "      <td>1.0</td>\n",
       "      <td>0</td>\n",
       "      <td>0</td>\n",
       "      <td>1</td>\n",
       "      <td>27:32:00</td>\n",
       "      <td>0</td>\n",
       "      <td>0</td>\n",
       "      <td>4</td>\n",
       "      <td>12</td>\n",
       "      <td>0</td>\n",
       "      <td>0</td>\n",
       "      <td>16</td>\n",
       "      <td>1</td>\n",
       "    </tr>\n",
       "  </tbody>\n",
       "</table>\n",
       "</div>"
      ],
      "text/plain": [
       "   Unnamed: 0  season  week team  home  pass_attempts  pass_completions  pass_yards  net_pass_yards  pass_tds  rush_attempts  rush_yards  rush_tds  total_yards  first_downs  sacks  sacks_yards  pass_interceptions  fumbles  fumbles_lost  turnovers time_of_possession  pentalties  penalty_yards  third_down_attempts  third_down_conversions  fourth_down_attempts  fourth_down_conversions  Score  Won\n",
       "0  0           2002    1     sfo  0     26             16                166.0       166             1.0       25             113.0       0.0       279          13           0      0            1.0                 0        0             1          27:32:00           0           0              4                    12                      0                     0                        16     1  "
      ]
     },
     "execution_count": 6,
     "metadata": {},
     "output_type": "execute_result"
    }
   ],
   "source": [
    "#dropping weather realted features\n",
    "df_2=df.drop(['boxscore_id','roof', 'surface', 'temp','humidity','wind_chill','wind_mph'],axis=1)\n",
    "df_2.head(1)"
   ]
  },
  {
   "cell_type": "code",
   "execution_count": 7,
   "metadata": {},
   "outputs": [
    {
     "data": {
      "text/plain": [
       "(9078, 30)"
      ]
     },
     "execution_count": 7,
     "metadata": {},
     "output_type": "execute_result"
    }
   ],
   "source": [
    "df_2.shape"
   ]
  },
  {
   "cell_type": "code",
   "execution_count": 8,
   "metadata": {
    "scrolled": true
   },
   "outputs": [
    {
     "data": {
      "text/plain": [
       "0       495 \n",
       "1       791 \n",
       "2       379 \n",
       "3       907 \n",
       "4       490 \n",
       "5       796 \n",
       "6       734 \n",
       "7       552 \n",
       "8       412 \n",
       "9       874 \n",
       "10      659 \n",
       "11      627 \n",
       "12      698 \n",
       "13      1164\n",
       "14      119 \n",
       "15      1181\n",
       "16      1108\n",
       "17      178 \n",
       "18      379 \n",
       "19      907 \n",
       "20      595 \n",
       "21      691 \n",
       "22      1247\n",
       "23      732 \n",
       "24      352 \n",
       "25      934 \n",
       "26      749 \n",
       "27      537 \n",
       "28      408 \n",
       "29      878 \n",
       "       ...  \n",
       "9048    879 \n",
       "9049    407 \n",
       "9050    140 \n",
       "9051    1146\n",
       "9052    535 \n",
       "9053    751 \n",
       "9054    1230\n",
       "9055    68  \n",
       "9056    717 \n",
       "9057    569 \n",
       "9058    353 \n",
       "9059    933 \n",
       "9060    863 \n",
       "9061    423 \n",
       "9062    691 \n",
       "9063    595 \n",
       "9064    82  \n",
       "9065    1213\n",
       "9066    270 \n",
       "9067    1016\n",
       "9068    146 \n",
       "9069    1140\n",
       "9070    176 \n",
       "9071    1110\n",
       "9072    799 \n",
       "9073    684 \n",
       "9074    1308\n",
       "9075    111 \n",
       "9076    453 \n",
       "9077    833 \n",
       "Name: time_of_possession, Length: 9078, dtype: int32"
      ]
     },
     "execution_count": 8,
     "metadata": {},
     "output_type": "execute_result"
    }
   ],
   "source": [
    "from sklearn.preprocessing import LabelEncoder\n",
    "le = LabelEncoder()\n",
    "#df_2['team']=df_2['team'].tolist()\n",
    "df_2['team'] = le.fit_transform(df_2['team'])\n",
    "\n",
    "df_2['team']\n",
    "\n",
    "\n",
    "\n",
    "df_2['time_of_possession'] = le.fit_transform(df_2['time_of_possession'])\n",
    "df_2['time_of_possession']"
   ]
  },
  {
   "cell_type": "code",
   "execution_count": 9,
   "metadata": {},
   "outputs": [
    {
     "data": {
      "text/html": [
       "<div>\n",
       "<style scoped>\n",
       "    .dataframe tbody tr th:only-of-type {\n",
       "        vertical-align: middle;\n",
       "    }\n",
       "\n",
       "    .dataframe tbody tr th {\n",
       "        vertical-align: top;\n",
       "    }\n",
       "\n",
       "    .dataframe thead th {\n",
       "        text-align: right;\n",
       "    }\n",
       "</style>\n",
       "<table border=\"1\" class=\"dataframe\">\n",
       "  <thead>\n",
       "    <tr style=\"text-align: right;\">\n",
       "      <th></th>\n",
       "      <th>Unnamed: 0</th>\n",
       "      <th>season</th>\n",
       "      <th>week</th>\n",
       "      <th>team</th>\n",
       "      <th>home</th>\n",
       "      <th>pass_attempts</th>\n",
       "      <th>pass_completions</th>\n",
       "      <th>pass_yards</th>\n",
       "      <th>net_pass_yards</th>\n",
       "      <th>pass_tds</th>\n",
       "      <th>rush_attempts</th>\n",
       "      <th>rush_yards</th>\n",
       "      <th>rush_tds</th>\n",
       "      <th>total_yards</th>\n",
       "      <th>first_downs</th>\n",
       "      <th>sacks</th>\n",
       "      <th>sacks_yards</th>\n",
       "      <th>pass_interceptions</th>\n",
       "      <th>fumbles</th>\n",
       "      <th>fumbles_lost</th>\n",
       "      <th>turnovers</th>\n",
       "      <th>time_of_possession</th>\n",
       "      <th>pentalties</th>\n",
       "      <th>penalty_yards</th>\n",
       "      <th>third_down_attempts</th>\n",
       "      <th>third_down_conversions</th>\n",
       "      <th>fourth_down_attempts</th>\n",
       "      <th>fourth_down_conversions</th>\n",
       "      <th>Score</th>\n",
       "      <th>Won</th>\n",
       "    </tr>\n",
       "  </thead>\n",
       "  <tbody>\n",
       "    <tr>\n",
       "      <th>0</th>\n",
       "      <td>0</td>\n",
       "      <td>2002</td>\n",
       "      <td>1</td>\n",
       "      <td>29</td>\n",
       "      <td>0</td>\n",
       "      <td>26</td>\n",
       "      <td>16</td>\n",
       "      <td>166.0</td>\n",
       "      <td>166</td>\n",
       "      <td>1.0</td>\n",
       "      <td>25</td>\n",
       "      <td>113.0</td>\n",
       "      <td>0.0</td>\n",
       "      <td>279</td>\n",
       "      <td>13</td>\n",
       "      <td>0</td>\n",
       "      <td>0</td>\n",
       "      <td>1.0</td>\n",
       "      <td>0</td>\n",
       "      <td>0</td>\n",
       "      <td>1</td>\n",
       "      <td>495</td>\n",
       "      <td>0</td>\n",
       "      <td>0</td>\n",
       "      <td>4</td>\n",
       "      <td>12</td>\n",
       "      <td>0</td>\n",
       "      <td>0</td>\n",
       "      <td>16</td>\n",
       "      <td>1</td>\n",
       "    </tr>\n",
       "    <tr>\n",
       "      <th>1</th>\n",
       "      <td>1</td>\n",
       "      <td>2002</td>\n",
       "      <td>1</td>\n",
       "      <td>19</td>\n",
       "      <td>1</td>\n",
       "      <td>45</td>\n",
       "      <td>28</td>\n",
       "      <td>342.0</td>\n",
       "      <td>318</td>\n",
       "      <td>0.0</td>\n",
       "      <td>22</td>\n",
       "      <td>43.0</td>\n",
       "      <td>1.0</td>\n",
       "      <td>361</td>\n",
       "      <td>21</td>\n",
       "      <td>3</td>\n",
       "      <td>24</td>\n",
       "      <td>3.0</td>\n",
       "      <td>0</td>\n",
       "      <td>0</td>\n",
       "      <td>3</td>\n",
       "      <td>791</td>\n",
       "      <td>3</td>\n",
       "      <td>24</td>\n",
       "      <td>9</td>\n",
       "      <td>16</td>\n",
       "      <td>0</td>\n",
       "      <td>1</td>\n",
       "      <td>13</td>\n",
       "      <td>0</td>\n",
       "    </tr>\n",
       "    <tr>\n",
       "      <th>2</th>\n",
       "      <td>2</td>\n",
       "      <td>2002</td>\n",
       "      <td>1</td>\n",
       "      <td>10</td>\n",
       "      <td>0</td>\n",
       "      <td>36</td>\n",
       "      <td>17</td>\n",
       "      <td>220.0</td>\n",
       "      <td>206</td>\n",
       "      <td>1.0</td>\n",
       "      <td>19</td>\n",
       "      <td>51.0</td>\n",
       "      <td>2.0</td>\n",
       "      <td>257</td>\n",
       "      <td>15</td>\n",
       "      <td>3</td>\n",
       "      <td>14</td>\n",
       "      <td>1.0</td>\n",
       "      <td>2</td>\n",
       "      <td>1</td>\n",
       "      <td>2</td>\n",
       "      <td>379</td>\n",
       "      <td>3</td>\n",
       "      <td>14</td>\n",
       "      <td>7</td>\n",
       "      <td>14</td>\n",
       "      <td>0</td>\n",
       "      <td>1</td>\n",
       "      <td>21</td>\n",
       "      <td>0</td>\n",
       "    </tr>\n",
       "    <tr>\n",
       "      <th>3</th>\n",
       "      <td>3</td>\n",
       "      <td>2002</td>\n",
       "      <td>1</td>\n",
       "      <td>15</td>\n",
       "      <td>1</td>\n",
       "      <td>27</td>\n",
       "      <td>18</td>\n",
       "      <td>207.0</td>\n",
       "      <td>207</td>\n",
       "      <td>3.0</td>\n",
       "      <td>41</td>\n",
       "      <td>182.0</td>\n",
       "      <td>3.0</td>\n",
       "      <td>389</td>\n",
       "      <td>27</td>\n",
       "      <td>0</td>\n",
       "      <td>0</td>\n",
       "      <td>0.0</td>\n",
       "      <td>2</td>\n",
       "      <td>0</td>\n",
       "      <td>0</td>\n",
       "      <td>907</td>\n",
       "      <td>0</td>\n",
       "      <td>0</td>\n",
       "      <td>6</td>\n",
       "      <td>12</td>\n",
       "      <td>1</td>\n",
       "      <td>1</td>\n",
       "      <td>49</td>\n",
       "      <td>1</td>\n",
       "    </tr>\n",
       "    <tr>\n",
       "      <th>4</th>\n",
       "      <td>4</td>\n",
       "      <td>2002</td>\n",
       "      <td>1</td>\n",
       "      <td>6</td>\n",
       "      <td>0</td>\n",
       "      <td>31</td>\n",
       "      <td>19</td>\n",
       "      <td>211.0</td>\n",
       "      <td>203</td>\n",
       "      <td>3.0</td>\n",
       "      <td>28</td>\n",
       "      <td>104.0</td>\n",
       "      <td>0.0</td>\n",
       "      <td>307</td>\n",
       "      <td>18</td>\n",
       "      <td>1</td>\n",
       "      <td>8</td>\n",
       "      <td>0.0</td>\n",
       "      <td>2</td>\n",
       "      <td>2</td>\n",
       "      <td>2</td>\n",
       "      <td>490</td>\n",
       "      <td>1</td>\n",
       "      <td>8</td>\n",
       "      <td>9</td>\n",
       "      <td>14</td>\n",
       "      <td>0</td>\n",
       "      <td>0</td>\n",
       "      <td>28</td>\n",
       "      <td>1</td>\n",
       "    </tr>\n",
       "  </tbody>\n",
       "</table>\n",
       "</div>"
      ],
      "text/plain": [
       "   Unnamed: 0  season  week  team  home  pass_attempts  pass_completions  pass_yards  net_pass_yards  pass_tds  rush_attempts  rush_yards  rush_tds  total_yards  first_downs  sacks  sacks_yards  pass_interceptions  fumbles  fumbles_lost  turnovers  time_of_possession  pentalties  penalty_yards  third_down_attempts  third_down_conversions  fourth_down_attempts  fourth_down_conversions  Score  Won\n",
       "0  0           2002    1     29    0     26             16                166.0       166             1.0       25             113.0       0.0       279          13           0      0            1.0                 0        0             1          495                 0           0              4                    12                      0                     0                        16     1  \n",
       "1  1           2002    1     19    1     45             28                342.0       318             0.0       22             43.0        1.0       361          21           3      24           3.0                 0        0             3          791                 3           24             9                    16                      0                     1                        13     0  \n",
       "2  2           2002    1     10    0     36             17                220.0       206             1.0       19             51.0        2.0       257          15           3      14           1.0                 2        1             2          379                 3           14             7                    14                      0                     1                        21     0  \n",
       "3  3           2002    1     15    1     27             18                207.0       207             3.0       41             182.0       3.0       389          27           0      0            0.0                 2        0             0          907                 0           0              6                    12                      1                     1                        49     1  \n",
       "4  4           2002    1     6     0     31             19                211.0       203             3.0       28             104.0       0.0       307          18           1      8            0.0                 2        2             2          490                 1           8              9                    14                      0                     0                        28     1  "
      ]
     },
     "execution_count": 9,
     "metadata": {},
     "output_type": "execute_result"
    }
   ],
   "source": [
    "df_2.head(5)"
   ]
  },
  {
   "cell_type": "code",
   "execution_count": 10,
   "metadata": {},
   "outputs": [],
   "source": [
    "df_2=df_2.fillna(0)"
   ]
  },
  {
   "cell_type": "code",
   "execution_count": 11,
   "metadata": {},
   "outputs": [
    {
     "data": {
      "text/html": [
       "<div>\n",
       "<style scoped>\n",
       "    .dataframe tbody tr th:only-of-type {\n",
       "        vertical-align: middle;\n",
       "    }\n",
       "\n",
       "    .dataframe tbody tr th {\n",
       "        vertical-align: top;\n",
       "    }\n",
       "\n",
       "    .dataframe thead th {\n",
       "        text-align: right;\n",
       "    }\n",
       "</style>\n",
       "<table border=\"1\" class=\"dataframe\">\n",
       "  <thead>\n",
       "    <tr style=\"text-align: right;\">\n",
       "      <th></th>\n",
       "      <th>Unnamed: 0</th>\n",
       "      <th>season</th>\n",
       "      <th>week</th>\n",
       "      <th>team</th>\n",
       "      <th>home</th>\n",
       "      <th>pass_attempts</th>\n",
       "      <th>pass_completions</th>\n",
       "      <th>pass_yards</th>\n",
       "      <th>net_pass_yards</th>\n",
       "      <th>pass_tds</th>\n",
       "      <th>rush_attempts</th>\n",
       "      <th>rush_yards</th>\n",
       "      <th>rush_tds</th>\n",
       "      <th>total_yards</th>\n",
       "      <th>first_downs</th>\n",
       "      <th>sacks</th>\n",
       "      <th>sacks_yards</th>\n",
       "      <th>pass_interceptions</th>\n",
       "      <th>fumbles</th>\n",
       "      <th>fumbles_lost</th>\n",
       "      <th>turnovers</th>\n",
       "      <th>time_of_possession</th>\n",
       "      <th>pentalties</th>\n",
       "      <th>penalty_yards</th>\n",
       "      <th>third_down_attempts</th>\n",
       "      <th>third_down_conversions</th>\n",
       "      <th>fourth_down_attempts</th>\n",
       "      <th>fourth_down_conversions</th>\n",
       "      <th>Score</th>\n",
       "      <th>Won</th>\n",
       "    </tr>\n",
       "  </thead>\n",
       "  <tbody>\n",
       "    <tr>\n",
       "      <th>0</th>\n",
       "      <td>0</td>\n",
       "      <td>2002</td>\n",
       "      <td>1</td>\n",
       "      <td>29</td>\n",
       "      <td>0</td>\n",
       "      <td>26</td>\n",
       "      <td>16</td>\n",
       "      <td>166.0</td>\n",
       "      <td>166</td>\n",
       "      <td>1.0</td>\n",
       "      <td>25</td>\n",
       "      <td>113.0</td>\n",
       "      <td>0.0</td>\n",
       "      <td>279</td>\n",
       "      <td>13</td>\n",
       "      <td>0</td>\n",
       "      <td>0</td>\n",
       "      <td>1.0</td>\n",
       "      <td>0</td>\n",
       "      <td>0</td>\n",
       "      <td>1</td>\n",
       "      <td>495</td>\n",
       "      <td>0</td>\n",
       "      <td>0</td>\n",
       "      <td>4</td>\n",
       "      <td>12</td>\n",
       "      <td>0</td>\n",
       "      <td>0</td>\n",
       "      <td>16</td>\n",
       "      <td>1</td>\n",
       "    </tr>\n",
       "    <tr>\n",
       "      <th>1</th>\n",
       "      <td>1</td>\n",
       "      <td>2002</td>\n",
       "      <td>1</td>\n",
       "      <td>19</td>\n",
       "      <td>1</td>\n",
       "      <td>45</td>\n",
       "      <td>28</td>\n",
       "      <td>342.0</td>\n",
       "      <td>318</td>\n",
       "      <td>0.0</td>\n",
       "      <td>22</td>\n",
       "      <td>43.0</td>\n",
       "      <td>1.0</td>\n",
       "      <td>361</td>\n",
       "      <td>21</td>\n",
       "      <td>3</td>\n",
       "      <td>24</td>\n",
       "      <td>3.0</td>\n",
       "      <td>0</td>\n",
       "      <td>0</td>\n",
       "      <td>3</td>\n",
       "      <td>791</td>\n",
       "      <td>3</td>\n",
       "      <td>24</td>\n",
       "      <td>9</td>\n",
       "      <td>16</td>\n",
       "      <td>0</td>\n",
       "      <td>1</td>\n",
       "      <td>13</td>\n",
       "      <td>0</td>\n",
       "    </tr>\n",
       "    <tr>\n",
       "      <th>2</th>\n",
       "      <td>2</td>\n",
       "      <td>2002</td>\n",
       "      <td>1</td>\n",
       "      <td>10</td>\n",
       "      <td>0</td>\n",
       "      <td>36</td>\n",
       "      <td>17</td>\n",
       "      <td>220.0</td>\n",
       "      <td>206</td>\n",
       "      <td>1.0</td>\n",
       "      <td>19</td>\n",
       "      <td>51.0</td>\n",
       "      <td>2.0</td>\n",
       "      <td>257</td>\n",
       "      <td>15</td>\n",
       "      <td>3</td>\n",
       "      <td>14</td>\n",
       "      <td>1.0</td>\n",
       "      <td>2</td>\n",
       "      <td>1</td>\n",
       "      <td>2</td>\n",
       "      <td>379</td>\n",
       "      <td>3</td>\n",
       "      <td>14</td>\n",
       "      <td>7</td>\n",
       "      <td>14</td>\n",
       "      <td>0</td>\n",
       "      <td>1</td>\n",
       "      <td>21</td>\n",
       "      <td>0</td>\n",
       "    </tr>\n",
       "    <tr>\n",
       "      <th>3</th>\n",
       "      <td>3</td>\n",
       "      <td>2002</td>\n",
       "      <td>1</td>\n",
       "      <td>15</td>\n",
       "      <td>1</td>\n",
       "      <td>27</td>\n",
       "      <td>18</td>\n",
       "      <td>207.0</td>\n",
       "      <td>207</td>\n",
       "      <td>3.0</td>\n",
       "      <td>41</td>\n",
       "      <td>182.0</td>\n",
       "      <td>3.0</td>\n",
       "      <td>389</td>\n",
       "      <td>27</td>\n",
       "      <td>0</td>\n",
       "      <td>0</td>\n",
       "      <td>0.0</td>\n",
       "      <td>2</td>\n",
       "      <td>0</td>\n",
       "      <td>0</td>\n",
       "      <td>907</td>\n",
       "      <td>0</td>\n",
       "      <td>0</td>\n",
       "      <td>6</td>\n",
       "      <td>12</td>\n",
       "      <td>1</td>\n",
       "      <td>1</td>\n",
       "      <td>49</td>\n",
       "      <td>1</td>\n",
       "    </tr>\n",
       "    <tr>\n",
       "      <th>4</th>\n",
       "      <td>4</td>\n",
       "      <td>2002</td>\n",
       "      <td>1</td>\n",
       "      <td>6</td>\n",
       "      <td>0</td>\n",
       "      <td>31</td>\n",
       "      <td>19</td>\n",
       "      <td>211.0</td>\n",
       "      <td>203</td>\n",
       "      <td>3.0</td>\n",
       "      <td>28</td>\n",
       "      <td>104.0</td>\n",
       "      <td>0.0</td>\n",
       "      <td>307</td>\n",
       "      <td>18</td>\n",
       "      <td>1</td>\n",
       "      <td>8</td>\n",
       "      <td>0.0</td>\n",
       "      <td>2</td>\n",
       "      <td>2</td>\n",
       "      <td>2</td>\n",
       "      <td>490</td>\n",
       "      <td>1</td>\n",
       "      <td>8</td>\n",
       "      <td>9</td>\n",
       "      <td>14</td>\n",
       "      <td>0</td>\n",
       "      <td>0</td>\n",
       "      <td>28</td>\n",
       "      <td>1</td>\n",
       "    </tr>\n",
       "  </tbody>\n",
       "</table>\n",
       "</div>"
      ],
      "text/plain": [
       "   Unnamed: 0  season  week  team  home  pass_attempts  pass_completions  pass_yards  net_pass_yards  pass_tds  rush_attempts  rush_yards  rush_tds  total_yards  first_downs  sacks  sacks_yards  pass_interceptions  fumbles  fumbles_lost  turnovers  time_of_possession  pentalties  penalty_yards  third_down_attempts  third_down_conversions  fourth_down_attempts  fourth_down_conversions  Score  Won\n",
       "0  0           2002    1     29    0     26             16                166.0       166             1.0       25             113.0       0.0       279          13           0      0            1.0                 0        0             1          495                 0           0              4                    12                      0                     0                        16     1  \n",
       "1  1           2002    1     19    1     45             28                342.0       318             0.0       22             43.0        1.0       361          21           3      24           3.0                 0        0             3          791                 3           24             9                    16                      0                     1                        13     0  \n",
       "2  2           2002    1     10    0     36             17                220.0       206             1.0       19             51.0        2.0       257          15           3      14           1.0                 2        1             2          379                 3           14             7                    14                      0                     1                        21     0  \n",
       "3  3           2002    1     15    1     27             18                207.0       207             3.0       41             182.0       3.0       389          27           0      0            0.0                 2        0             0          907                 0           0              6                    12                      1                     1                        49     1  \n",
       "4  4           2002    1     6     0     31             19                211.0       203             3.0       28             104.0       0.0       307          18           1      8            0.0                 2        2             2          490                 1           8              9                    14                      0                     0                        28     1  "
      ]
     },
     "execution_count": 11,
     "metadata": {},
     "output_type": "execute_result"
    }
   ],
   "source": [
    "df_2.head()"
   ]
  },
  {
   "cell_type": "code",
   "execution_count": 12,
   "metadata": {},
   "outputs": [],
   "source": [
    "# Step 0: Reformat data\n",
    "data = df_2.values\n",
    "X = data[:, 1:29]\n",
    "y = data[:, 29]"
   ]
  },
  {
   "cell_type": "code",
   "execution_count": 13,
   "metadata": {},
   "outputs": [
    {
     "data": {
      "text/plain": [
       "(9078, 28)"
      ]
     },
     "execution_count": 13,
     "metadata": {},
     "output_type": "execute_result"
    }
   ],
   "source": [
    "X\n",
    "X.shape"
   ]
  },
  {
   "cell_type": "code",
   "execution_count": 14,
   "metadata": {},
   "outputs": [
    {
     "data": {
      "text/plain": [
       "array([[2.002e+03, 1.000e+00, 2.900e+01, ..., 0.000e+00, 0.000e+00,\n",
       "        1.600e+01],\n",
       "       [2.002e+03, 1.000e+00, 1.900e+01, ..., 0.000e+00, 1.000e+00,\n",
       "        1.300e+01],\n",
       "       [2.002e+03, 1.000e+00, 1.000e+01, ..., 0.000e+00, 1.000e+00,\n",
       "        2.100e+01],\n",
       "       ...,\n",
       "       [2.018e+03, 2.000e+01, 1.400e+01, ..., 0.000e+00, 0.000e+00,\n",
       "        3.100e+01],\n",
       "       [2.018e+03, 2.100e+01, 2.500e+01, ..., 0.000e+00, 0.000e+00,\n",
       "        3.000e+00],\n",
       "       [2.018e+03, 2.100e+01, 1.800e+01, ..., 0.000e+00, 1.000e+00,\n",
       "        1.300e+01]])"
      ]
     },
     "execution_count": 14,
     "metadata": {},
     "output_type": "execute_result"
    }
   ],
   "source": [
    "X"
   ]
  },
  {
   "cell_type": "code",
   "execution_count": 15,
   "metadata": {},
   "outputs": [],
   "source": [
    "scaled = preprocessing.MinMaxScaler()"
   ]
  },
  {
   "cell_type": "code",
   "execution_count": 16,
   "metadata": {},
   "outputs": [],
   "source": [
    "scaled_X = scaled.fit_transform(X)"
   ]
  },
  {
   "cell_type": "code",
   "execution_count": 17,
   "metadata": {},
   "outputs": [
    {
     "data": {
      "text/plain": [
       "array([[0.        , 0.        , 0.93548387, ..., 0.        , 0.        ,\n",
       "        0.25806452],\n",
       "       [0.        , 0.        , 0.61290323, ..., 0.        , 0.14285714,\n",
       "        0.20967742],\n",
       "       [0.        , 0.        , 0.32258065, ..., 0.        , 0.14285714,\n",
       "        0.33870968],\n",
       "       ...,\n",
       "       [1.        , 0.95      , 0.4516129 , ..., 0.        , 0.        ,\n",
       "        0.5       ],\n",
       "       [1.        , 1.        , 0.80645161, ..., 0.        , 0.        ,\n",
       "        0.0483871 ],\n",
       "       [1.        , 1.        , 0.58064516, ..., 0.        , 0.14285714,\n",
       "        0.20967742]])"
      ]
     },
     "execution_count": 17,
     "metadata": {},
     "output_type": "execute_result"
    }
   ],
   "source": [
    "scaled_X"
   ]
  },
  {
   "cell_type": "code",
   "execution_count": 18,
   "metadata": {
    "scrolled": true
   },
   "outputs": [
    {
     "data": {
      "text/plain": [
       "array([1., 0., 0., ..., 0., 0., 1.])"
      ]
     },
     "execution_count": 18,
     "metadata": {},
     "output_type": "execute_result"
    }
   ],
   "source": [
    "y"
   ]
  },
  {
   "cell_type": "code",
   "execution_count": 19,
   "metadata": {},
   "outputs": [],
   "source": [
    "# Use train_test_split to create training and testing data\n",
    "from sklearn.model_selection import train_test_split\n",
    "\n",
    "X_train, X_test, y_train, y_test = train_test_split(scaled_X, y, random_state=42)"
   ]
  },
  {
   "cell_type": "code",
   "execution_count": 20,
   "metadata": {},
   "outputs": [
    {
     "data": {
      "text/plain": [
       "(6808, 28)"
      ]
     },
     "execution_count": 20,
     "metadata": {},
     "output_type": "execute_result"
    }
   ],
   "source": [
    "X_train.shape"
   ]
  },
  {
   "cell_type": "code",
   "execution_count": 109,
   "metadata": {},
   "outputs": [
    {
     "name": "stdout",
     "output_type": "stream",
     "text": [
      "LR_Accuracy: 0.8462555066079295 \n",
      "\n",
      "              precision    recall  f1-score   support\n",
      "\n",
      "         0.0       0.85      0.84      0.85      1136\n",
      "         1.0       0.84      0.85      0.85      1134\n",
      "\n",
      "   micro avg       0.85      0.85      0.85      2270\n",
      "   macro avg       0.85      0.85      0.85      2270\n",
      "weighted avg       0.85      0.85      0.85      2270\n",
      "\n"
     ]
    },
    {
     "data": {
      "text/plain": [
       "['xgb_model.sav']"
      ]
     },
     "execution_count": 109,
     "metadata": {},
     "output_type": "execute_result"
    }
   ],
   "source": [
    "#Model1:XGB\n",
    "# fit model no training data\n",
    "xgb_model = make_pipeline(StandardScaler(),xgb.XGBClassifier())\n",
    "xgb_model.fit(X_train, y_train)\n",
    "print(f'LR_Accuracy: {xgb_model.score(X_test, y_test)} \\n')\n",
    "print(classification_report(y_test, xgb_model.predict(X_test)))\n",
    "filename1 = 'xgb_model.sav'\n",
    "joblib.dump(xgb_model, filename1)\n"
   ]
  },
  {
   "cell_type": "code",
   "execution_count": 110,
   "metadata": {},
   "outputs": [
    {
     "name": "stdout",
     "output_type": "stream",
     "text": [
      "LR_Accuracy: 0.8563876651982378 \n",
      "\n",
      "              precision    recall  f1-score   support\n",
      "\n",
      "         0.0       0.87      0.84      0.85      1136\n",
      "         1.0       0.85      0.87      0.86      1134\n",
      "\n",
      "   micro avg       0.86      0.86      0.86      2270\n",
      "   macro avg       0.86      0.86      0.86      2270\n",
      "weighted avg       0.86      0.86      0.86      2270\n",
      "\n"
     ]
    },
    {
     "name": "stderr",
     "output_type": "stream",
     "text": [
      "C:\\ProgramData\\Anaconda3\\envs\\ut_ml\\lib\\site-packages\\sklearn\\linear_model\\logistic.py:433: FutureWarning: Default solver will be changed to 'lbfgs' in 0.22. Specify a solver to silence this warning.\n",
      "  FutureWarning)\n"
     ]
    },
    {
     "data": {
      "text/plain": [
       "['LR_model.sav']"
      ]
     },
     "execution_count": 110,
     "metadata": {},
     "output_type": "execute_result"
    }
   ],
   "source": [
    "#Model2:logisticRegression\n",
    "#%%time\n",
    "\n",
    "model_log_reg = make_pipeline(StandardScaler(),LogisticRegression())\n",
    "\n",
    "model_log_reg.fit(X_train, y_train)\n",
    "\n",
    "print(f'LR_Accuracy: {model_log_reg.score(X_test, y_test)} \\n')\n",
    "print(classification_report(y_test, model_log_reg.predict(X_test)))\n",
    "filename2 = 'LR_model.sav'\n",
    "joblib.dump(model_log_reg, filename2)\n",
    "\n"
   ]
  },
  {
   "cell_type": "code",
   "execution_count": 111,
   "metadata": {},
   "outputs": [
    {
     "name": "stdout",
     "output_type": "stream",
     "text": [
      "SVC_Accuracy: 0.8466960352422908 \n",
      "\n",
      "              precision    recall  f1-score   support\n",
      "\n",
      "         0.0       0.86      0.83      0.84      1136\n",
      "         1.0       0.84      0.86      0.85      1134\n",
      "\n",
      "   micro avg       0.85      0.85      0.85      2270\n",
      "   macro avg       0.85      0.85      0.85      2270\n",
      "weighted avg       0.85      0.85      0.85      2270\n",
      "\n"
     ]
    },
    {
     "data": {
      "text/plain": [
       "['svm_model.sav']"
      ]
     },
     "execution_count": 111,
     "metadata": {},
     "output_type": "execute_result"
    }
   ],
   "source": [
    "#Model3:SVC\n",
    "#%%time\n",
    "clf = svm.SVC(gamma='scale',probability=True)\n",
    "clf.fit(X_train,y_train)\n",
    "# model_svm = make_pipeline(StandardScaler(),clf())\n",
    "# model_svm.fit(X_train, y_train)\n",
    "\n",
    "print(f'SVC_Accuracy: {clf.score(X_test, y_test)} \\n')\n",
    "print(classification_report(y_test, clf.predict(X_test)))\n",
    "filename3 = 'svm_model.sav'\n",
    "joblib.dump(clf, filename3)\n",
    "\n"
   ]
  },
  {
   "cell_type": "code",
   "execution_count": 112,
   "metadata": {},
   "outputs": [
    {
     "data": {
      "text/plain": [
       "'C:\\\\Users\\\\Mrinalini\\\\Desktop\\\\NFL_Project\\\\NFL_ML_Predictor'"
      ]
     },
     "execution_count": 112,
     "metadata": {},
     "output_type": "execute_result"
    }
   ],
   "source": [
    "%pwd"
   ]
  },
  {
   "cell_type": "code",
   "execution_count": 113,
   "metadata": {},
   "outputs": [],
   "source": [
    "#Model4 : Gradient Boosting regressor fit with grid search\n",
    "from sklearn import ensemble\n",
    "from sklearn.ensemble import GradientBoostingClassifier"
   ]
  },
  {
   "cell_type": "code",
   "execution_count": 114,
   "metadata": {},
   "outputs": [],
   "source": [
    "GB_model = ensemble.GradientBoostingClassifier(loss='deviance', learning_rate=10, n_estimators=1000,\n",
    "                                               min_samples_split=2, min_samples_leaf=10, max_depth=4, min_impurity_decrease=0.0,                                               \n",
    "                                               min_impurity_split=None, init=None, random_state=None, max_features=0.1, verbose=0)"
   ]
  },
  {
   "cell_type": "code",
   "execution_count": 115,
   "metadata": {},
   "outputs": [
    {
     "name": "stdout",
     "output_type": "stream",
     "text": [
      "GB_Accuracy: 0.5484581497797357 \n",
      "\n",
      "              precision    recall  f1-score   support\n",
      "\n",
      "         0.0       0.75      0.15      0.24      1136\n",
      "         1.0       0.53      0.95      0.68      1134\n",
      "\n",
      "   micro avg       0.55      0.55      0.55      2270\n",
      "   macro avg       0.64      0.55      0.46      2270\n",
      "weighted avg       0.64      0.55      0.46      2270\n",
      "\n"
     ]
    },
    {
     "data": {
      "text/plain": [
       "['GB_model.sav']"
      ]
     },
     "execution_count": 115,
     "metadata": {},
     "output_type": "execute_result"
    }
   ],
   "source": [
    "#GB_model = make_pipeline(StandardScaler(),model())\n",
    "\n",
    "GB_model.fit(X_train, y_train)\n",
    "\n",
    "print(f'GB_Accuracy: {GB_model.score(X_test, y_test)} \\n')\n",
    "print(classification_report(y_test, GB_model.predict(X_test)))\n",
    "filename4 = 'GB_model.sav'\n",
    "joblib.dump(GB_model, filename4)"
   ]
  },
  {
   "cell_type": "code",
   "execution_count": 116,
   "metadata": {},
   "outputs": [],
   "source": [
    "#Gridsearch for best Hyperparameters\n",
    "# from sklearn import model_selection\n",
    "# from sklearn.model_selection import GridSearchCV\n",
    "# param_grid={\n",
    "#     'n_estimators':[500,1000,3000],\n",
    "#     'max_depth':[4,6,8,10,20],\n",
    "#     'learning_rate':[0.1,0.05,0.02,0.01],\n",
    "#     'max_features':[1.0,0.3,0.1],\n",
    "#     'loss':['deviance','exponential']\n",
    "# }"
   ]
  },
  {
   "cell_type": "code",
   "execution_count": 117,
   "metadata": {},
   "outputs": [],
   "source": [
    "# gs_cv = GridSearchCV(GB_model,param_grid,n_jobs=4)"
   ]
  },
  {
   "cell_type": "code",
   "execution_count": 118,
   "metadata": {},
   "outputs": [],
   "source": [
    "\n",
    "# gs_cv.fit(X_train,y_train)"
   ]
  },
  {
   "cell_type": "code",
   "execution_count": 119,
   "metadata": {},
   "outputs": [],
   "source": [
    "# print(gs_cv.best_params_)"
   ]
  },
  {
   "cell_type": "code",
   "execution_count": 120,
   "metadata": {},
   "outputs": [],
   "source": [
    "GB_best_model = ensemble.GradientBoostingClassifier(loss='deviance', learning_rate=0.02, n_estimators=500,\n",
    "                                               min_samples_split=2, min_samples_leaf=10, max_depth=4, min_impurity_decrease=0.0,                                               \n",
    "                                               min_impurity_split=None, init=None, random_state=None, max_features=0.3, verbose=0)"
   ]
  },
  {
   "cell_type": "code",
   "execution_count": 121,
   "metadata": {},
   "outputs": [
    {
     "name": "stdout",
     "output_type": "stream",
     "text": [
      "GB_best_Accuracy: 0.8480176211453745 \n",
      "\n",
      "              precision    recall  f1-score   support\n",
      "\n",
      "         0.0       0.85      0.84      0.85      1136\n",
      "         1.0       0.84      0.85      0.85      1134\n",
      "\n",
      "   micro avg       0.85      0.85      0.85      2270\n",
      "   macro avg       0.85      0.85      0.85      2270\n",
      "weighted avg       0.85      0.85      0.85      2270\n",
      "\n"
     ]
    },
    {
     "data": {
      "text/plain": [
       "['GB_best_model.sav']"
      ]
     },
     "execution_count": 121,
     "metadata": {},
     "output_type": "execute_result"
    }
   ],
   "source": [
    "GB_best_model.fit(X_train, y_train)\n",
    "\n",
    "print(f'GB_best_Accuracy: {GB_best_model.score(X_test, y_test)} \\n')\n",
    "print(classification_report(y_test, GB_best_model.predict(X_test)))\n",
    "filename5 = 'GB_best_model.sav'\n",
    "joblib.dump(GB_best_model, filename5)"
   ]
  },
  {
   "cell_type": "code",
   "execution_count": 122,
   "metadata": {},
   "outputs": [],
   "source": [
    "#In the last I have fit a Grid searched Gradient Boosting model \n",
    "#with best params which again gives an accuracy of 85% like most of above models.\n",
    "#We may have to train more models-Deep Neural Net and CNN may be tried."
   ]
  },
  {
   "cell_type": "code",
   "execution_count": 128,
   "metadata": {},
   "outputs": [],
   "source": [
    "Xnew=[[0,0,0,29, 0, 20, 15, 130, 151, 1, 19, 110, 0, 181, 9, 0, 0, 1, 0, 0, 1, 495, 0, 0, 4, 7, 0,0 ]]"
   ]
  },
  {
   "cell_type": "code",
   "execution_count": 129,
   "metadata": {},
   "outputs": [],
   "source": [
    "svm_model=joblib.load('./svm_model.sav')"
   ]
  },
  {
   "cell_type": "code",
   "execution_count": 130,
   "metadata": {},
   "outputs": [],
   "source": [
    "result=svm_model.predict(Xnew)"
   ]
  },
  {
   "cell_type": "code",
   "execution_count": 131,
   "metadata": {},
   "outputs": [
    {
     "data": {
      "text/plain": [
       "array([0.])"
      ]
     },
     "execution_count": 131,
     "metadata": {},
     "output_type": "execute_result"
    }
   ],
   "source": [
    "result"
   ]
  },
  {
   "cell_type": "code",
   "execution_count": 132,
   "metadata": {},
   "outputs": [],
   "source": [
    "logit_model=joblib.load('./LR_model.sav')"
   ]
  },
  {
   "cell_type": "code",
   "execution_count": 133,
   "metadata": {},
   "outputs": [],
   "source": [
    "LR_result=logit_model.predict(Xnew)"
   ]
  },
  {
   "cell_type": "code",
   "execution_count": 134,
   "metadata": {},
   "outputs": [
    {
     "name": "stdout",
     "output_type": "stream",
     "text": [
      "[0.]\n"
     ]
    }
   ],
   "source": [
    "print(LR_result)"
   ]
  },
  {
   "cell_type": "code",
   "execution_count": 135,
   "metadata": {},
   "outputs": [],
   "source": [
    "y_predicted_proba = logit_model.predict_proba(Xnew)"
   ]
  },
  {
   "cell_type": "code",
   "execution_count": 136,
   "metadata": {},
   "outputs": [
    {
     "name": "stdout",
     "output_type": "stream",
     "text": [
      "[[1. 0.]]\n"
     ]
    }
   ],
   "source": [
    "print(y_predicted_proba)"
   ]
  },
  {
   "cell_type": "code",
   "execution_count": 137,
   "metadata": {},
   "outputs": [],
   "source": [
    "LR_result=logit_model.predict(X_test)"
   ]
  },
  {
   "cell_type": "code",
   "execution_count": 138,
   "metadata": {},
   "outputs": [
    {
     "data": {
      "text/plain": [
       "array([[0.125     , 0.55      , 0.70967742, ..., 0.        , 0.        ,\n",
       "        0.43548387],\n",
       "       [0.9375    , 0.1       , 0.83870968, ..., 0.        , 0.14285714,\n",
       "        0.11290323],\n",
       "       [0.0625    , 0.35      , 0.41935484, ..., 0.        , 0.14285714,\n",
       "        0.27419355],\n",
       "       ...,\n",
       "       [0.6875    , 0.4       , 0.80645161, ..., 0.        , 0.14285714,\n",
       "        0.33870968],\n",
       "       [0.5625    , 0.        , 0.58064516, ..., 0.        , 0.        ,\n",
       "        0.61290323],\n",
       "       [0.6875    , 0.2       , 0.48387097, ..., 0.2       , 0.14285714,\n",
       "        0.37096774]])"
      ]
     },
     "execution_count": 138,
     "metadata": {},
     "output_type": "execute_result"
    }
   ],
   "source": [
    "X_test"
   ]
  },
  {
   "cell_type": "code",
   "execution_count": 139,
   "metadata": {},
   "outputs": [
    {
     "name": "stdout",
     "output_type": "stream",
     "text": [
      "[1. 0. 0. ... 0. 1. 0.]\n"
     ]
    }
   ],
   "source": [
    "print(LR_result)"
   ]
  },
  {
   "cell_type": "code",
   "execution_count": 140,
   "metadata": {},
   "outputs": [],
   "source": [
    "y_predicted_proba = logit_model.predict_proba(X_test)"
   ]
  },
  {
   "cell_type": "code",
   "execution_count": 141,
   "metadata": {},
   "outputs": [
    {
     "name": "stdout",
     "output_type": "stream",
     "text": [
      "[[0.0337065  0.9662935 ]\n",
      " [0.98616624 0.01383376]\n",
      " [0.98997762 0.01002238]\n",
      " ...\n",
      " [0.53313613 0.46686387]\n",
      " [0.23008645 0.76991355]\n",
      " [0.78373387 0.21626613]]\n"
     ]
    }
   ],
   "source": [
    "print(y_predicted_proba)"
   ]
  },
  {
   "cell_type": "code",
   "execution_count": 142,
   "metadata": {},
   "outputs": [
    {
     "data": {
      "text/plain": [
       "2270"
      ]
     },
     "execution_count": 142,
     "metadata": {},
     "output_type": "execute_result"
    }
   ],
   "source": [
    "len(y_predicted_proba)"
   ]
  },
  {
   "cell_type": "code",
   "execution_count": 143,
   "metadata": {},
   "outputs": [
    {
     "data": {
      "text/plain": [
       "2270"
      ]
     },
     "execution_count": 143,
     "metadata": {},
     "output_type": "execute_result"
    }
   ],
   "source": [
    "len(X_test)"
   ]
  },
  {
   "cell_type": "code",
   "execution_count": 144,
   "metadata": {},
   "outputs": [
    {
     "data": {
      "text/plain": [
       "array([0., 1.])"
      ]
     },
     "execution_count": 144,
     "metadata": {},
     "output_type": "execute_result"
    }
   ],
   "source": [
    "logit_model.classes_"
   ]
  },
  {
   "cell_type": "code",
   "execution_count": 145,
   "metadata": {},
   "outputs": [],
   "source": [
    "#The predicted probabilities are for class 0(Loss in our case) and class 1(Win) respectively in each binary list"
   ]
  },
  {
   "cell_type": "code",
   "execution_count": 146,
   "metadata": {},
   "outputs": [
    {
     "data": {
      "text/plain": [
       "0.8563876651982378"
      ]
     },
     "execution_count": 146,
     "metadata": {},
     "output_type": "execute_result"
    }
   ],
   "source": [
    "score=logit_model.score(X_test,y_test)\n",
    "score"
   ]
  },
  {
   "cell_type": "code",
   "execution_count": 147,
   "metadata": {},
   "outputs": [],
   "source": [
    "from sklearn import metrics\n",
    "cm=metrics.confusion_matrix(y_test,LR_result)"
   ]
  },
  {
   "cell_type": "code",
   "execution_count": 148,
   "metadata": {},
   "outputs": [
    {
     "name": "stdout",
     "output_type": "stream",
     "text": [
      "[[959 177]\n",
      " [149 985]]\n"
     ]
    }
   ],
   "source": [
    "print(cm)"
   ]
  },
  {
   "cell_type": "code",
   "execution_count": 149,
   "metadata": {},
   "outputs": [],
   "source": [
    "SVM_result=svm_model.predict(X_test)"
   ]
  },
  {
   "cell_type": "code",
   "execution_count": 150,
   "metadata": {},
   "outputs": [
    {
     "name": "stdout",
     "output_type": "stream",
     "text": [
      "[1. 0. 0. ... 1. 1. 0.]\n"
     ]
    }
   ],
   "source": [
    "print(SVM_result)"
   ]
  },
  {
   "cell_type": "code",
   "execution_count": 151,
   "metadata": {},
   "outputs": [],
   "source": [
    "y_predicted_proba1 = svm_model.predict_proba(X_test)"
   ]
  },
  {
   "cell_type": "code",
   "execution_count": 152,
   "metadata": {},
   "outputs": [
    {
     "name": "stdout",
     "output_type": "stream",
     "text": [
      "[[0.01197706 0.98802294]\n",
      " [0.98925694 0.01074306]\n",
      " [0.99282229 0.00717771]\n",
      " ...\n",
      " [0.35970397 0.64029603]\n",
      " [0.45587744 0.54412256]\n",
      " [0.81136245 0.18863755]]\n"
     ]
    }
   ],
   "source": [
    "print(y_predicted_proba1)"
   ]
  },
  {
   "cell_type": "code",
   "execution_count": 153,
   "metadata": {},
   "outputs": [
    {
     "name": "stdout",
     "output_type": "stream",
     "text": [
      "Index(['Unnamed: 0', 'season', 'week', 'team', 'home', 'pass_attempts',\n",
      "       'pass_completions', 'pass_yards', 'net_pass_yards', 'pass_tds',\n",
      "       'rush_attempts', 'rush_yards', 'rush_tds', 'total_yards', 'first_downs',\n",
      "       'sacks', 'sacks_yards', 'pass_interceptions', 'fumbles', 'fumbles_lost',\n",
      "       'turnovers', 'time_of_possession', 'pentalties', 'penalty_yards',\n",
      "       'third_down_attempts', 'third_down_conversions', 'fourth_down_attempts',\n",
      "       'fourth_down_conversions', 'Score', 'Won'],\n",
      "      dtype='object')\n"
     ]
    }
   ],
   "source": [
    "dta=pd.DataFrame(df_2)\n",
    "print(dta.columns)"
   ]
  },
  {
   "cell_type": "code",
   "execution_count": 154,
   "metadata": {},
   "outputs": [],
   "source": [
    "xgb_model=joblib.load('./xgb_model.sav')"
   ]
  },
  {
   "cell_type": "code",
   "execution_count": 155,
   "metadata": {},
   "outputs": [],
   "source": [
    "xgb_model_results=xgb_model.predict(X_test)"
   ]
  },
  {
   "cell_type": "code",
   "execution_count": 156,
   "metadata": {},
   "outputs": [
    {
     "name": "stdout",
     "output_type": "stream",
     "text": [
      "[1. 0. 0. ... 1. 1. 0.]\n"
     ]
    }
   ],
   "source": [
    "print(xgb_model_results)"
   ]
  },
  {
   "cell_type": "code",
   "execution_count": 157,
   "metadata": {},
   "outputs": [],
   "source": [
    "y_predicted_proba2 = xgb_model.predict_proba(X_test)"
   ]
  },
  {
   "cell_type": "code",
   "execution_count": 158,
   "metadata": {},
   "outputs": [
    {
     "name": "stdout",
     "output_type": "stream",
     "text": [
      "[[0.06256932 0.9374307 ]\n",
      " [0.9849413  0.0150587 ]\n",
      " [0.9485897  0.0514103 ]\n",
      " ...\n",
      " [0.3172409  0.6827591 ]\n",
      " [0.2741943  0.7258057 ]\n",
      " [0.8074151  0.1925849 ]]\n"
     ]
    }
   ],
   "source": [
    "print(y_predicted_proba2)"
   ]
  },
  {
   "cell_type": "code",
   "execution_count": 159,
   "metadata": {},
   "outputs": [
    {
     "data": {
      "text/plain": [
       "array([1., 0., 0., ..., 1., 1., 0.])"
      ]
     },
     "execution_count": 159,
     "metadata": {},
     "output_type": "execute_result"
    }
   ],
   "source": [
    "GB_best_model=joblib.load('./GB_best_model.sav')\n",
    "GB_best_model.predict(X_test)"
   ]
  },
  {
   "cell_type": "code",
   "execution_count": 160,
   "metadata": {},
   "outputs": [],
   "source": [
    "y_predicted_proba3 = GB_best_model.predict_proba(X_test)"
   ]
  },
  {
   "cell_type": "code",
   "execution_count": 161,
   "metadata": {},
   "outputs": [
    {
     "name": "stdout",
     "output_type": "stream",
     "text": [
      "[[0.05151984 0.94848016]\n",
      " [0.98373107 0.01626893]\n",
      " [0.94916993 0.05083007]\n",
      " ...\n",
      " [0.26710273 0.73289727]\n",
      " [0.19347261 0.80652739]\n",
      " [0.80655987 0.19344013]]\n"
     ]
    }
   ],
   "source": [
    "print(y_predicted_proba3)"
   ]
  },
  {
   "cell_type": "code",
   "execution_count": 163,
   "metadata": {},
   "outputs": [],
   "source": [
    "models=(xgb_model,logit_model,svm_model,GB_best_model)"
   ]
  },
  {
   "cell_type": "code",
   "execution_count": 166,
   "metadata": {},
   "outputs": [],
   "source": [
    "#loop through 4 models and print results and probas\n",
    "def predict_y(model,X):\n",
    "    predicted_y=model.predict(X),\n",
    "    y_predicted_proba=model.predict_proba(X)\n",
    "    return print(predicted_y)\n",
    "    return print(y_predicted_proba)\n",
    "    "
   ]
  },
  {
   "cell_type": "code",
   "execution_count": 185,
   "metadata": {},
   "outputs": [
    {
     "name": "stdout",
     "output_type": "stream",
     "text": [
      "(array([1., 0., 0., ..., 0., 1., 0.]),)\n"
     ]
    }
   ],
   "source": [
    "Logit_result=predict_y(logit_model,X_test)"
   ]
  },
  {
   "cell_type": "code",
   "execution_count": 188,
   "metadata": {},
   "outputs": [],
   "source": [
    "result_df=pd.DataFrame(Logit_result)"
   ]
  },
  {
   "cell_type": "code",
   "execution_count": 189,
   "metadata": {},
   "outputs": [
    {
     "data": {
      "text/html": [
       "<div>\n",
       "<style scoped>\n",
       "    .dataframe tbody tr th:only-of-type {\n",
       "        vertical-align: middle;\n",
       "    }\n",
       "\n",
       "    .dataframe tbody tr th {\n",
       "        vertical-align: top;\n",
       "    }\n",
       "\n",
       "    .dataframe thead th {\n",
       "        text-align: right;\n",
       "    }\n",
       "</style>\n",
       "<table border=\"1\" class=\"dataframe\">\n",
       "  <thead>\n",
       "    <tr style=\"text-align: right;\">\n",
       "      <th></th>\n",
       "    </tr>\n",
       "  </thead>\n",
       "  <tbody>\n",
       "  </tbody>\n",
       "</table>\n",
       "</div>"
      ],
      "text/plain": [
       "Empty DataFrame\n",
       "Columns: []\n",
       "Index: []"
      ]
     },
     "execution_count": 189,
     "metadata": {},
     "output_type": "execute_result"
    }
   ],
   "source": [
    "result_df"
   ]
  },
  {
   "cell_type": "code",
   "execution_count": null,
   "metadata": {},
   "outputs": [],
   "source": []
  }
 ],
 "metadata": {
  "kernelspec": {
   "display_name": "Python 3",
   "language": "python",
   "name": "python3"
  },
  "language_info": {
   "codemirror_mode": {
    "name": "ipython",
    "version": 3
   },
   "file_extension": ".py",
   "mimetype": "text/x-python",
   "name": "python",
   "nbconvert_exporter": "python",
   "pygments_lexer": "ipython3",
   "version": "3.6.7"
  }
 },
 "nbformat": 4,
 "nbformat_minor": 2
}
