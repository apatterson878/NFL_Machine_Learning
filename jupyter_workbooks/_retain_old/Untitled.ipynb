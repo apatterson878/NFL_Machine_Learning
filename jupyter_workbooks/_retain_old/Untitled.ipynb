{
 "cells": [
  {
   "cell_type": "code",
   "execution_count": 1,
   "metadata": {},
   "outputs": [
    {
     "name": "stdout",
     "output_type": "stream",
     "text": [
      "Requirement already satisfied: joblib in c:\\programdata\\anaconda3\\envs\\ut_ml\\lib\\site-packages (0.13.2)\n"
     ]
    }
   ],
   "source": [
    "!pip install joblib"
   ]
  },
  {
   "cell_type": "code",
   "execution_count": 3,
   "metadata": {},
   "outputs": [],
   "source": [
    "%matplotlib inline\n",
    "import pandas as pd\n",
    "from pandas.plotting import scatter_matrix\n",
    "import numpy as np\n",
    "from numpy import loadtxt\n",
    "import os\n",
    "import scipy\n",
    "import matplotlib.pyplot as plt\n",
    "from matplotlib import rcParams\n",
    "import warnings\n",
    "import sklearn\n",
    "from sklearn import preprocessing\n",
    "from sklearn.preprocessing import scale\n",
    "from sklearn.preprocessing import StandardScaler\n",
    "import seaborn as sb\n",
    "\n",
    "from sklearn.metrics import classification_report\n",
    "from sklearn.metrics import accuracy_score\n",
    "\n",
    "from sklearn.pipeline import make_pipeline\n",
    "from sklearn.linear_model import LogisticRegression\n",
    "#from sklearn.linear_model import LogisticRegressionCV\n",
    "#from sklearn.discriminant_analysis import LinearDiscriminantAnalysis\n",
    "from sklearn import svm\n",
    "from sklearn.svm import LinearSVC\n",
    "from sklearn.neural_network import MLPClassifier\n",
    "from sklearn.tree import DecisionTreeClassifier\n",
    "from sklearn.ensemble import RandomForestClassifier, AdaBoostClassifier, VotingClassifier\n",
    "import xgboost as xgb\n",
    "\n",
    "from xgboost import XGBClassifier\n",
    "#from sklearn.model_selection import train_test_split\n",
    "import joblib\n",
    "from joblib import dump, load\n",
    "import pickle\n"
   ]
  },
  {
   "cell_type": "code",
   "execution_count": 4,
   "metadata": {},
   "outputs": [],
   "source": [
    "%matplotlib inline\n",
    "import pandas as pd\n",
    "from pandas.plotting import scatter_matrix\n",
    "import numpy as np\n",
    "from numpy import loadtxt\n",
    "import os\n",
    "import scipy\n",
    "import matplotlib.pyplot as plt\n",
    "from matplotlib import rcParams\n",
    "import warnings\n",
    "import sklearn\n",
    "from sklearn import preprocessing\n",
    "from sklearn.preprocessing import scale\n",
    "from sklearn.preprocessing import StandardScaler\n",
    "import seaborn as sb\n",
    "\n",
    "from sklearn.metrics import classification_report\n",
    "from sklearn.metrics import accuracy_score\n",
    "\n",
    "from sklearn.pipeline import make_pipeline\n",
    "from sklearn.linear_model import LogisticRegression\n",
    "#from sklearn.linear_model import LogisticRegressionCV\n",
    "#from sklearn.discriminant_analysis import LinearDiscriminantAnalysis\n",
    "from sklearn import svm\n",
    "from sklearn.svm import LinearSVC\n",
    "from sklearn.neural_network import MLPClassifier\n",
    "from sklearn.tree import DecisionTreeClassifier\n",
    "from sklearn.ensemble import RandomForestClassifier, AdaBoostClassifier, VotingClassifier\n",
    "import xgboost as xgb\n",
    "\n",
    "from xgboost import XGBClassifier\n",
    "#from sklearn.model_selection import train_test_split\n",
    "import joblib\n",
    "from joblib import dump, load\n",
    "import pickle\n"
   ]
  },
  {
   "cell_type": "code",
   "execution_count": 17,
   "metadata": {},
   "outputs": [],
   "source": [
    "%matplotlib inline\n",
    "import pandas as pd\n",
    "from pandas.plotting import scatter_matrix\n",
    "import numpy as np\n",
    "from numpy import loadtxt\n",
    "import os\n",
    "import scipy\n",
    "import matplotlib.pyplot as plt\n",
    "from matplotlib import rcParams\n",
    "import warnings\n",
    "import sklearn\n",
    "from sklearn import preprocessing\n",
    "from sklearn.preprocessing import scale\n",
    "from sklearn.preprocessing import StandardScaler\n",
    "import seaborn as sb\n",
    "\n",
    "from sklearn.metrics import classification_report\n",
    "from sklearn.metrics import accuracy_score\n",
    "\n",
    "from sklearn.pipeline import make_pipeline\n",
    "from sklearn.linear_model import LogisticRegression\n",
    "#from sklearn.linear_model import LogisticRegressionCV\n",
    "#from sklearn.discriminant_analysis import LinearDiscriminantAnalysis\n",
    "from sklearn import svm\n",
    "from sklearn.svm import LinearSVC\n",
    "from sklearn.neural_network import MLPClassifier\n",
    "from sklearn.tree import DecisionTreeClassifier\n",
    "from sklearn.ensemble import RandomForestClassifier, AdaBoostClassifier, VotingClassifier\n",
    "import xgboost as xgb\n",
    "\n",
    "from xgboost import XGBClassifier\n",
    "#from sklearn.model_selection import train_test_split\n",
    "import joblib\n",
    "from joblib import dump, load\n",
    "import pickle\n"
   ]
  },
  {
   "cell_type": "code",
   "execution_count": 27,
   "metadata": {},
   "outputs": [
    {
     "data": {
      "text/plain": [
       "<bound method DataFrame.transpose of    Unnamed: 0  season  week   boxscore_id team  home  pass_attempts  pass_completions  pass_yards  net_pass_yards  pass_tds  rush_attempts  rush_yards  rush_tds  total_yards  first_downs  sacks  sacks_yards  pass_interceptions  fumbles  fumbles_lost  turnovers time_of_possession  pentalties  penalty_yards  third_down_attempts  third_down_conversions  fourth_down_attempts  fourth_down_conversions      roof surface  temp  humidity  wind_chill  wind_mph  Score  Won\n",
       "0  0           2002    1     200209050nyg  sfo  0     26             16                166.0       166             1.0       25             113.0       0.0       279          13           0      0            1.0                 0        0             1          27:32:00           0           0              4                    12                      0                     0                        outdoors  grass   73    49.0      0           7         16     1  >"
      ]
     },
     "execution_count": 27,
     "metadata": {},
     "output_type": "execute_result"
    }
   ],
   "source": [
    "pd.set_option('display.max_columns', None)  \n",
    "pd.set_option('display.expand_frame_repr', False)\n",
    "pd.set_option('max_colwidth', -1)\n",
    "df=pd.read_csv(\"NFL_datasetForML.csv\")\n",
    "data = df.select_dtypes(include=[object])\n",
    "df.head(1).transpose\n",
    "# TODO: create a LabelEncoder object and fit it to each feature in X\n"
   ]
  },
  {
   "cell_type": "code",
   "execution_count": 33,
   "metadata": {
    "scrolled": true
   },
   "outputs": [
    {
     "data": {
      "text/html": [
       "<div>\n",
       "<style scoped>\n",
       "    .dataframe tbody tr th:only-of-type {\n",
       "        vertical-align: middle;\n",
       "    }\n",
       "\n",
       "    .dataframe tbody tr th {\n",
       "        vertical-align: top;\n",
       "    }\n",
       "\n",
       "    .dataframe thead th {\n",
       "        text-align: right;\n",
       "    }\n",
       "</style>\n",
       "<table border=\"1\" class=\"dataframe\">\n",
       "  <thead>\n",
       "    <tr style=\"text-align: right;\">\n",
       "      <th></th>\n",
       "      <th>Unnamed: 0</th>\n",
       "      <th>season</th>\n",
       "      <th>week</th>\n",
       "      <th>boxscore_id</th>\n",
       "      <th>team</th>\n",
       "      <th>home</th>\n",
       "      <th>pass_attempts</th>\n",
       "      <th>pass_completions</th>\n",
       "      <th>pass_yards</th>\n",
       "      <th>net_pass_yards</th>\n",
       "      <th>pass_tds</th>\n",
       "      <th>rush_attempts</th>\n",
       "      <th>rush_yards</th>\n",
       "      <th>rush_tds</th>\n",
       "      <th>total_yards</th>\n",
       "      <th>first_downs</th>\n",
       "      <th>sacks</th>\n",
       "      <th>sacks_yards</th>\n",
       "      <th>pass_interceptions</th>\n",
       "      <th>fumbles</th>\n",
       "      <th>fumbles_lost</th>\n",
       "      <th>turnovers</th>\n",
       "      <th>time_of_possession</th>\n",
       "      <th>pentalties</th>\n",
       "      <th>penalty_yards</th>\n",
       "      <th>third_down_attempts</th>\n",
       "      <th>third_down_conversions</th>\n",
       "      <th>fourth_down_attempts</th>\n",
       "      <th>fourth_down_conversions</th>\n",
       "      <th>roof</th>\n",
       "      <th>surface</th>\n",
       "      <th>temp</th>\n",
       "      <th>humidity</th>\n",
       "      <th>wind_chill</th>\n",
       "      <th>wind_mph</th>\n",
       "      <th>Score</th>\n",
       "      <th>Won</th>\n",
       "    </tr>\n",
       "  </thead>\n",
       "  <tbody>\n",
       "    <tr>\n",
       "      <th>0</th>\n",
       "      <td>0</td>\n",
       "      <td>0</td>\n",
       "      <td>0</td>\n",
       "      <td>0</td>\n",
       "      <td>29</td>\n",
       "      <td>0</td>\n",
       "      <td>20</td>\n",
       "      <td>15</td>\n",
       "      <td>130</td>\n",
       "      <td>151</td>\n",
       "      <td>1</td>\n",
       "      <td>19</td>\n",
       "      <td>110</td>\n",
       "      <td>0</td>\n",
       "      <td>181</td>\n",
       "      <td>9</td>\n",
       "      <td>0</td>\n",
       "      <td>0</td>\n",
       "      <td>1</td>\n",
       "      <td>0</td>\n",
       "      <td>0</td>\n",
       "      <td>1</td>\n",
       "      <td>495</td>\n",
       "      <td>0</td>\n",
       "      <td>0</td>\n",
       "      <td>4</td>\n",
       "      <td>7</td>\n",
       "      <td>0</td>\n",
       "      <td>0</td>\n",
       "      <td>1</td>\n",
       "      <td>7</td>\n",
       "      <td>72</td>\n",
       "      <td>45</td>\n",
       "      <td>13</td>\n",
       "      <td>7</td>\n",
       "      <td>14</td>\n",
       "      <td>1</td>\n",
       "    </tr>\n",
       "  </tbody>\n",
       "</table>\n",
       "</div>"
      ],
      "text/plain": [
       "   Unnamed: 0  season  week  boxscore_id  team  home  pass_attempts  pass_completions  pass_yards  net_pass_yards  pass_tds  rush_attempts  rush_yards  rush_tds  total_yards  first_downs  sacks  sacks_yards  pass_interceptions  fumbles  fumbles_lost  turnovers  time_of_possession  pentalties  penalty_yards  third_down_attempts  third_down_conversions  fourth_down_attempts  fourth_down_conversions  roof  surface  temp  humidity  wind_chill  wind_mph  Score  Won\n",
       "0  0           0       0     0            29    0     20             15                130         151             1         19             110         0         181          9            0      0            1                   0        0             1          495                 0           0              4                    7                       0                     0                        1     7        72    45        13          7         14     1  "
      ]
     },
     "execution_count": 33,
     "metadata": {},
     "output_type": "execute_result"
    }
   ],
   "source": [
    "df=pd.read_csv(\"NFL_datasetForML.csv\")\n",
    "data = df.select_dtypes(include=[object])\n",
    "df.head(3)\n",
    "# TODO: create a LabelEncoder object and fit it to each feature in X\n",
    "\n",
    "\n",
    "# 1. INSTANTIATE\n",
    "# encode labels with value between 0 and n_classes-1.\n",
    "le = preprocessing.LabelEncoder()\n",
    "\n",
    "\n",
    "# 2/3. FIT AND TRANSFORM\n",
    "# use df.appl\n",
    "#y() to apply le.fit_transform to all columns\n",
    "df_2 = df.apply(le.fit_transform)\n",
    "df_2.head(1)\n"
   ]
  },
  {
   "cell_type": "code",
   "execution_count": 35,
   "metadata": {},
   "outputs": [],
   "source": [
    "Xnew=[[0,0,0,29, 0, 20, 15, 130, 151, 1, 19, 110, 0, 181, 9, 0, 0, 1, 0, 0, 1, 495, 0, 0, 4, 7, 0, 0 ]]\n"
   ]
  },
  {
   "cell_type": "code",
   "execution_count": 36,
   "metadata": {},
   "outputs": [],
   "source": [
    "svm_model=joblib.load('./svm_model.sav')"
   ]
  },
  {
   "cell_type": "code",
   "execution_count": 38,
   "metadata": {},
   "outputs": [],
   "source": [
    "result=svm_model.predict(Xnew)"
   ]
  },
  {
   "cell_type": "code",
   "execution_count": 41,
   "metadata": {},
   "outputs": [
    {
     "name": "stdout",
     "output_type": "stream",
     "text": [
      "[0]\n"
     ]
    }
   ],
   "source": [
    "# for result in result:\n",
    "#       if result ==1:\n",
    "#         print(\"This team is predicted to win\")\n",
    "#         else:\n",
    "#         print(\"You may not get your money back!!!\")\n",
    "print(result)\n",
    "     "
   ]
  },
  {
   "cell_type": "code",
   "execution_count": null,
   "metadata": {},
   "outputs": [],
   "source": []
  }
 ],
 "metadata": {
  "kernelspec": {
   "display_name": "Python [conda env:ut_ml]",
   "language": "python",
   "name": "conda-env-ut_ml-py"
  },
  "language_info": {
   "codemirror_mode": {
    "name": "ipython",
    "version": 3
   },
   "file_extension": ".py",
   "mimetype": "text/x-python",
   "name": "python",
   "nbconvert_exporter": "python",
   "pygments_lexer": "ipython3",
   "version": "3.7.3"
  }
 },
 "nbformat": 4,
 "nbformat_minor": 2
}
